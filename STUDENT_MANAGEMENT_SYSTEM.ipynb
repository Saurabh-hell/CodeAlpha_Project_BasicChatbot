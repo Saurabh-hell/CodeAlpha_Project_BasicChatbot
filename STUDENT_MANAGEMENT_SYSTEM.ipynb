{
  "nbformat": 4,
  "nbformat_minor": 0,
  "metadata": {
    "colab": {
      "provenance": [],
      "authorship_tag": "ABX9TyNlpA7JdIkMU9j6vv6eh+Qk",
      "include_colab_link": true
    },
    "kernelspec": {
      "name": "python3",
      "display_name": "Python 3"
    },
    "language_info": {
      "name": "python"
    }
  },
  "cells": [
    {
      "cell_type": "markdown",
      "metadata": {
        "id": "view-in-github",
        "colab_type": "text"
      },
      "source": [
        "<a href=\"https://colab.research.google.com/github/Saurabh-hell/CodeAlpha_Project_BasicChatbot/blob/main/STUDENT_MANAGEMENT_SYSTEM.ipynb\" target=\"_parent\"><img src=\"https://colab.research.google.com/assets/colab-badge.svg\" alt=\"Open In Colab\"/></a>"
      ]
    },
    {
      "cell_type": "code",
      "execution_count": null,
      "metadata": {
        "id": "QUCXfj-HyJJi",
        "outputId": "c90d36ed-293f-4e47-b21e-3ee549a2ea28",
        "colab": {
          "base_uri": "https://localhost:8080/"
        }
      },
      "outputs": [
        {
          "metadata": {
            "tags": null
          },
          "name": "stdout",
          "output_type": "stream",
          "text": [
            "\n",
            "=== Student Management System ===\n",
            "1. Add Student\n",
            "2. View Student\n",
            "3. Update Grades\n",
            "4. Mark Attendance\n",
            "5. Delete Student\n",
            "6. List All Students\n",
            "7. Exit\n"
          ]
        }
      ],
      "source": [
        "class Student:\n",
        "    def __init__(self, student_id, name, age, grades=None, attendance=None):\n",
        "        self.student_id = student_id\n",
        "        self.name = name\n",
        "        self.age = age\n",
        "        self.grades = grades if grades else []\n",
        "        self.attendance = attendance if attendance else []\n",
        "\n",
        "    def add_grade(self, grade):\n",
        "        self.grades.append(grade)\n",
        "\n",
        "    def mark_attendance(self, date, status):\n",
        "        self.attendance.append({'date': date, 'status': status})\n",
        "\n",
        "    def __str__(self):\n",
        "        return (f\"ID: {self.student_id}, Name: {self.name}, Age: {self.age}, \"\n",
        "                f\"Grades: {self.grades}, Attendance: {self.attendance}\")\n",
        "\n",
        "\n",
        "class StudentManagementSystem:\n",
        "    def __init__(self):\n",
        "        self.students = {}\n",
        "\n",
        "    def add_student(self):\n",
        "        student_id = input(\"Enter Student ID: \")\n",
        "        if student_id in self.students:\n",
        "            print(\"Student ID already exists.\")\n",
        "            return\n",
        "        name = input(\"Enter Student Name: \")\n",
        "        age = input(\"Enter Student Age: \")\n",
        "        self.students[student_id] = Student(student_id, name, age)\n",
        "        print(\"Student added successfully!\")\n",
        "\n",
        "    def view_student(self):\n",
        "        student_id = input(\"Enter Student ID to view: \")\n",
        "        if student_id in self.students:\n",
        "            print(self.students[student_id])\n",
        "        else:\n",
        "            print(\"Student not found.\")\n",
        "\n",
        "    def update_grades(self):\n",
        "        student_id = input(\"Enter Student ID to update grades: \")\n",
        "        if student_id in self.students:\n",
        "            grade = input(\"Enter grade to add: \")\n",
        "            self.students[student_id].add_grade(grade)\n",
        "            print(\"Grade added successfully!\")\n",
        "        else:\n",
        "            print(\"Student not found.\")\n",
        "\n",
        "    def mark_attendance(self):\n",
        "        student_id = input(\"Enter Student ID to mark attendance: \")\n",
        "        if student_id in self.students:\n",
        "            date = input(\"Enter date (YYYY-MM-DD): \")\n",
        "            status = input(\"Enter status (Present/Absent): \")\n",
        "            self.students[student_id].mark_attendance(date, status)\n",
        "            print(\"Attendance marked successfully!\")\n",
        "        else:\n",
        "            print(\"Student not found.\")\n",
        "\n",
        "    def delete_student(self):\n",
        "        student_id = input(\"Enter Student ID to delete: \")\n",
        "        if student_id in self.students:\n",
        "            del self.students[student_id]\n",
        "            print(\"Student deleted successfully!\")\n",
        "        else:\n",
        "            print(\"Student not found.\")\n",
        "\n",
        "    def list_students(self):\n",
        "        if not self.students:\n",
        "            print(\"No students found.\")\n",
        "        else:\n",
        "            for student_id, student in self.students.items():\n",
        "                print(student)\n",
        "\n",
        "    def menu(self):\n",
        "        while True:\n",
        "            print(\"\\n=== Student Management System ===\")\n",
        "            print(\"1. Add Student\")\n",
        "            print(\"2. View Student\")\n",
        "            print(\"3. Update Grades\")\n",
        "            print(\"4. Mark Attendance\")\n",
        "            print(\"5. Delete Student\")\n",
        "            print(\"6. List All Students\")\n",
        "            print(\"7. Exit\")\n",
        "            choice = input(\"Enter your choice: \")\n",
        "\n",
        "            if choice == '1':\n",
        "                self.add_student()\n",
        "            elif choice == '2':\n",
        "                self.view_student()\n",
        "            elif choice == '3':\n",
        "                self.update_grades()\n",
        "            elif choice == '4':\n",
        "                self.mark_attendance()\n",
        "            elif choice == '5':\n",
        "                self.delete_student()\n",
        "            elif choice == '6':\n",
        "                self.list_students()\n",
        "            elif choice == '7':\n",
        "                print(\"Exiting program. Goodbye!\")\n",
        "                break\n",
        "            else:\n",
        "                print(\"Invalid choice. Please try again.\")\n",
        "\n",
        "\n",
        "# Run the program\n",
        "if __name__ == \"__main__\":\n",
        "    sms = StudentManagementSystem()\n",
        "    sms.menu()"
      ]
    }
  ]
}